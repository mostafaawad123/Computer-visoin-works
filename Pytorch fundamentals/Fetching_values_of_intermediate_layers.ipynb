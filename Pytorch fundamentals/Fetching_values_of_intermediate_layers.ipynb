{
 "cells": [
  {
   "cell_type": "code",
   "execution_count": 1,
   "metadata": {
    "ExecuteTime": {
     "end_time": "2020-09-25T19:37:27.437450Z",
     "start_time": "2020-09-25T19:37:27.143217Z"
    },
    "id": "e1gtGb85daHv"
   },
   "outputs": [],
   "source": [
    "import torch\n",
    "x = [[1,2],[3,4],[5,6],[7,8]]\n",
    "y = [[3],[7],[11],[15]]"
   ]
  },
  {
   "cell_type": "code",
   "execution_count": 2,
   "metadata": {
    "ExecuteTime": {
     "end_time": "2020-09-25T19:37:27.440914Z",
     "start_time": "2020-09-25T19:37:27.438557Z"
    },
    "id": "ZaYGlxtQdbd1"
   },
   "outputs": [],
   "source": [
    "X = torch.tensor(x).float()\n",
    "Y = torch.tensor(y).float()"
   ]
  },
  {
   "cell_type": "code",
   "execution_count": 3,
   "metadata": {
    "ExecuteTime": {
     "end_time": "2020-09-25T19:37:29.527549Z",
     "start_time": "2020-09-25T19:37:27.442428Z"
    },
    "id": "q5DT95H_dcwi"
   },
   "outputs": [],
   "source": [
    "X = X\n",
    "Y = Y"
   ]
  },
  {
   "cell_type": "code",
   "execution_count": 4,
   "metadata": {
    "ExecuteTime": {
     "end_time": "2020-09-25T19:37:29.530750Z",
     "start_time": "2020-09-25T19:37:29.528696Z"
    },
    "id": "rHq7VwgDdeJ-"
   },
   "outputs": [],
   "source": [
    "import torch.nn as nn"
   ]
  },
  {
   "cell_type": "code",
   "execution_count": 5,
   "metadata": {
    "ExecuteTime": {
     "end_time": "2020-09-25T19:37:29.535567Z",
     "start_time": "2020-09-25T19:37:29.531890Z"
    },
    "id": "clpig_05dfYK"
   },
   "outputs": [],
   "source": [
    "class MyNeuralNet(nn.Module):\n",
    "    def __init__(self):\n",
    "        super().__init__()\n",
    "        self.input_to_hidden_layer = nn.Linear(2,8)\n",
    "        self.hidden_layer_activation = nn.ReLU()\n",
    "        self.hidden_to_output_layer = nn.Linear(8,1)\n",
    "    def forward(self, x):\n",
    "        x = self.input_to_hidden_layer(x)\n",
    "        x = self.hidden_layer_activation(x)\n",
    "        x = self.hidden_to_output_layer(x)\n",
    "        return x"
   ]
  },
  {
   "cell_type": "code",
   "execution_count": 6,
   "metadata": {
    "ExecuteTime": {
     "end_time": "2020-09-25T19:37:29.540168Z",
     "start_time": "2020-09-25T19:37:29.536723Z"
    },
    "id": "McmLsQstdnxr"
   },
   "outputs": [],
   "source": [
    "torch.random.manual_seed(10)\n",
    "mynet = MyNeuralNet()"
   ]
  },
  {
   "cell_type": "code",
   "execution_count": 7,
   "metadata": {
    "ExecuteTime": {
     "end_time": "2020-09-25T19:37:29.544857Z",
     "start_time": "2020-09-25T19:37:29.541272Z"
    },
    "id": "8cyG-B-AdoBB"
   },
   "outputs": [],
   "source": [
    "loss_func = nn.MSELoss()"
   ]
  },
  {
   "cell_type": "code",
   "execution_count": 8,
   "metadata": {
    "ExecuteTime": {
     "end_time": "2020-09-25T19:37:29.554504Z",
     "start_time": "2020-09-25T19:37:29.546221Z"
    },
    "colab": {
     "base_uri": "https://localhost:8080/"
    },
    "id": "QRTf8vdKdqmP",
    "outputId": "55370c9b-a407-423b-8baa-aaeeae811b22"
   },
   "outputs": [
    {
     "name": "stdout",
     "output_type": "stream",
     "text": [
      "tensor(102.1545, grad_fn=<MseLossBackward0>)\n"
     ]
    }
   ],
   "source": [
    "_Y = mynet(X)\n",
    "loss_value = loss_func(_Y,Y)\n",
    "print(loss_value)"
   ]
  },
  {
   "cell_type": "code",
   "execution_count": 9,
   "metadata": {
    "ExecuteTime": {
     "end_time": "2020-09-25T19:37:29.558932Z",
     "start_time": "2020-09-25T19:37:29.555392Z"
    },
    "id": "dTOdsvFydsQK"
   },
   "outputs": [],
   "source": [
    "from torch.optim import SGD\n",
    "opt = SGD(mynet.parameters(), lr = 0.001)"
   ]
  },
  {
   "cell_type": "code",
   "execution_count": 10,
   "metadata": {
    "ExecuteTime": {
     "end_time": "2020-09-25T19:37:29.588488Z",
     "start_time": "2020-09-25T19:37:29.560089Z"
    },
    "id": "xyHCZwfYduGO"
   },
   "outputs": [],
   "source": [
    "loss_history = []\n",
    "for _ in range(50):\n",
    "    opt.zero_grad()\n",
    "    loss_value = loss_func(mynet(X),Y)\n",
    "    loss_value.backward()\n",
    "    opt.step()\n",
    "    loss_history.append(loss_value)"
   ]
  },
  {
   "cell_type": "markdown",
   "metadata": {
    "id": "0-Sn8tA11MKR"
   },
   "source": [
    "### 1. Fetching intermediate values by directly calling the intermediate layer"
   ]
  },
  {
   "cell_type": "code",
   "execution_count": 12,
   "metadata": {
    "colab": {
     "base_uri": "https://localhost:8080/"
    },
    "id": "jmfHZmKXdyND",
    "outputId": "7c3a7be9-46c7-461e-8e37-19e28ac07ff1"
   },
   "outputs": [
    {
     "data": {
      "text/plain": [
       "tensor([[-4.0139e-01,  7.2155e-03, -4.9131e-01,  1.4615e+00, -3.8093e-01,\n",
       "         -7.1646e-01,  4.6765e-01,  2.0814e+00],\n",
       "        [-5.6844e-01, -2.2575e-01, -1.5498e+00,  3.1695e+00, -5.2755e-01,\n",
       "         -7.3935e-01,  1.9716e+00,  5.3073e+00],\n",
       "        [-7.3548e-01, -4.5871e-01, -2.6083e+00,  4.8776e+00, -6.7418e-01,\n",
       "         -7.6225e-01,  3.4756e+00,  8.5332e+00],\n",
       "        [-9.0252e-01, -6.9167e-01, -3.6667e+00,  6.5856e+00, -8.2080e-01,\n",
       "         -7.8514e-01,  4.9795e+00,  1.1759e+01]], grad_fn=<AddmmBackward0>)"
      ]
     },
     "execution_count": 12,
     "metadata": {},
     "output_type": "execute_result"
    }
   ],
   "source": [
    "mynet.input_to_hidden_layer(X)"
   ]
  },
  {
   "cell_type": "markdown",
   "metadata": {
    "id": "bPkK_o_r2J0y"
   },
   "source": [
    "### 2. Fetching intermediate values by returning them in `nn.Module` definition"
   ]
  },
  {
   "cell_type": "code",
   "execution_count": 14,
   "metadata": {
    "colab": {
     "base_uri": "https://localhost:8080/",
     "height": 312
    },
    "id": "yarZlkt71Qrw",
    "outputId": "e4129b1f-2291-417a-b025-d47d73e23beb"
   },
   "outputs": [],
   "source": [
    "torch.random.manual_seed(10)\n",
    "class MyNeuralNet(nn.Module):\n",
    "    def __init__(self):\n",
    "        super().__init__()\n",
    "        self.input_to_hidden_layer = nn.Linear(2,8)\n",
    "        self.hidden_layer_activation = nn.ReLU()\n",
    "        self.hidden_to_output_layer = nn.Linear(8,1)\n",
    "    def forward(self, x):\n",
    "        hidden1 = self.input_to_hidden_layer(x)\n",
    "        hidden2 = self.hidden_layer_activation(hidden1)\n",
    "        x = self.hidden_to_output_layer(hidden2)\n",
    "        return x, hidden1\n",
    "\n",
    "mynet = MyNeuralNet()\n",
    "loss_func = nn.MSELoss()\n",
    "_Y, _Y_hidden = mynet(X)\n",
    "loss_value = loss_func(_Y,Y)\n",
    "opt = SGD(mynet.parameters(), lr = 0.001)\n",
    "loss_history = []\n",
    "for _ in range(50):\n",
    "    opt.zero_grad()\n",
    "    loss_value = loss_func(mynet(X)[0],Y)\n",
    "    loss_value.backward()\n",
    "    opt.step()\n",
    "    loss_history.append(loss_value)\n"
   ]
  },
  {
   "cell_type": "code",
   "execution_count": 15,
   "metadata": {
    "colab": {
     "base_uri": "https://localhost:8080/"
    },
    "id": "sNQxAxOM1oaX",
    "outputId": "f2219f64-dd84-4ba7-f2fd-f36a96e348c1"
   },
   "outputs": [
    {
     "data": {
      "text/plain": [
       "tensor([[-4.0139e-01,  7.2155e-03, -4.9131e-01,  1.4615e+00, -3.8093e-01,\n",
       "         -7.1646e-01,  4.6765e-01,  2.0814e+00],\n",
       "        [-5.6844e-01, -2.2575e-01, -1.5498e+00,  3.1695e+00, -5.2755e-01,\n",
       "         -7.3935e-01,  1.9716e+00,  5.3073e+00],\n",
       "        [-7.3548e-01, -4.5871e-01, -2.6083e+00,  4.8776e+00, -6.7418e-01,\n",
       "         -7.6225e-01,  3.4756e+00,  8.5332e+00],\n",
       "        [-9.0252e-01, -6.9167e-01, -3.6667e+00,  6.5856e+00, -8.2080e-01,\n",
       "         -7.8514e-01,  4.9795e+00,  1.1759e+01]], grad_fn=<AddmmBackward0>)"
      ]
     },
     "execution_count": 15,
     "metadata": {},
     "output_type": "execute_result"
    }
   ],
   "source": [
    "mynet(X)[1]"
   ]
  },
  {
   "cell_type": "code",
   "execution_count": null,
   "metadata": {
    "id": "vXZvZI-U1pcK"
   },
   "outputs": [],
   "source": []
  }
 ],
 "metadata": {
  "colab": {
   "include_colab_link": true,
   "name": "Fetching_values_of_intermediate_layers.ipynb",
   "provenance": []
  },
  "kernelspec": {
   "display_name": "Python 3",
   "language": "python",
   "name": "python3"
  },
  "language_info": {
   "codemirror_mode": {
    "name": "ipython",
    "version": 3
   },
   "file_extension": ".py",
   "mimetype": "text/x-python",
   "name": "python",
   "nbconvert_exporter": "python",
   "pygments_lexer": "ipython3",
   "version": "3.8.8"
  }
 },
 "nbformat": 4,
 "nbformat_minor": 1
}
