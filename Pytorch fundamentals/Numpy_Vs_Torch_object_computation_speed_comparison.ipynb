{
 "cells": [
  {
   "cell_type": "code",
   "execution_count": null,
   "metadata": {
    "id": "28AUPOlYcu3r"
   },
   "outputs": [],
   "source": [
    "import torch\n",
    "x = torch.rand(1, 6400)\n",
    "y = torch.rand(6400, 5000)"
   ]
  },
  {
   "cell_type": "code",
   "execution_count": null,
   "metadata": {
    "id": "Sv_d4T5wcwyd"
   },
   "outputs": [],
   "source": [
    "device = 'cuda' if torch.cuda.is_available() else 'cpu'\n",
    "assert device == 'cuda', \"This exercise assumes the notebook is on a GPU machine\""
   ]
  },
  {
   "cell_type": "code",
   "execution_count": null,
   "metadata": {
    "id": "Xc8oysTVczCG"
   },
   "outputs": [],
   "source": [
    "x, y = x.to(device), y.to(device)"
   ]
  },
  {
   "cell_type": "code",
   "execution_count": null,
   "metadata": {
    "colab": {
     "base_uri": "https://localhost:8080/",
     "height": 51
    },
    "id": "jdzaTd7Rc0fc",
    "outputId": "70159e60-eacb-4855-c791-a95de753f494"
   },
   "outputs": [],
   "source": [
    "%timeit z=(x@y)"
   ]
  },
  {
   "cell_type": "code",
   "execution_count": null,
   "metadata": {
    "colab": {
     "base_uri": "https://localhost:8080/",
     "height": 34
    },
    "id": "B7nijUnjc2BC",
    "outputId": "047a5c2f-58c5-4567-c3e9-14734d056bd8"
   },
   "outputs": [],
   "source": [
    "x, y = x.cpu(), y.cpu()\n",
    "%timeit z=(x@y)"
   ]
  },
  {
   "cell_type": "code",
   "execution_count": null,
   "metadata": {
    "colab": {
     "base_uri": "https://localhost:8080/",
     "height": 34
    },
    "id": "wEGUO99Ec3Z4",
    "outputId": "11cd14b4-5c89-4ea3-d43a-104d7ceb3370"
   },
   "outputs": [],
   "source": [
    "import numpy as np\n",
    "x = np.random.random((1, 6400))\n",
    "y = np.random.random((6400, 5000))\n",
    "%timeit z = np.matmul(x,y)"
   ]
  },
  {
   "cell_type": "code",
   "execution_count": null,
   "metadata": {
    "id": "nczGQXKqc6H0"
   },
   "outputs": [],
   "source": []
  }
 ],
 "metadata": {
  "accelerator": "GPU",
  "colab": {
   "collapsed_sections": [],
   "include_colab_link": true,
   "name": "Numpy_Vs_Torch_object_computation_speed_comparison.ipynb",
   "provenance": []
  },
  "kernelspec": {
   "display_name": "Python 3",
   "language": "python",
   "name": "python3"
  },
  "language_info": {
   "codemirror_mode": {
    "name": "ipython",
    "version": 3
   },
   "file_extension": ".py",
   "mimetype": "text/x-python",
   "name": "python",
   "nbconvert_exporter": "python",
   "pygments_lexer": "ipython3",
   "version": "3.8.8"
  }
 },
 "nbformat": 4,
 "nbformat_minor": 1
}
